{
  "nbformat": 4,
  "nbformat_minor": 0,
  "metadata": {
    "colab": {
      "provenance": [],
      "gpuType": "T4",
      "authorship_tag": "ABX9TyNRta6hsHATmz8+Ok0tINED",
      "include_colab_link": true
    },
    "kernelspec": {
      "name": "python3",
      "display_name": "Python 3"
    },
    "language_info": {
      "name": "python"
    },
    "accelerator": "GPU"
  },
  "cells": [
    {
      "cell_type": "markdown",
      "metadata": {
        "id": "view-in-github",
        "colab_type": "text"
      },
      "source": [
        "<a href=\"https://colab.research.google.com/github/Mohamedragih1/Stanford-Sentiment-Treebank-SST-Text-Classification/blob/main/Logistic_Regression.ipynb\" target=\"_parent\"><img src=\"https://colab.research.google.com/assets/colab-badge.svg\" alt=\"Open In Colab\"/></a>"
      ]
    },
    {
      "cell_type": "markdown",
      "source": [
        "# Data loading"
      ],
      "metadata": {
        "id": "0Kp7BWcJUPlf"
      }
    },
    {
      "cell_type": "code",
      "execution_count": 75,
      "metadata": {
        "id": "2XglS38tReyI"
      },
      "outputs": [],
      "source": [
        "#Import required libraries\n",
        "import numpy as np\n",
        "!pip install datasets\n",
        "from datasets import load_dataset\n",
        "from sklearn.utils import shuffle\n",
        "from sklearn.metrics import accuracy_score"
      ]
    },
    {
      "cell_type": "code",
      "source": [
        "#Load data\n",
        "dataset = load_dataset(\"sst\")"
      ],
      "metadata": {
        "id": "wLdfMfO7R7qi"
      },
      "execution_count": null,
      "outputs": []
    },
    {
      "cell_type": "markdown",
      "source": [
        "#Preprocessing"
      ],
      "metadata": {
        "id": "eWCNccflULfg"
      }
    },
    {
      "cell_type": "code",
      "source": [
        "def rangeToCat(value):\n",
        "    mappingFn = {\n",
        "        (0, 0.2): 0,\n",
        "        (0.2, 0.4): 1,\n",
        "        (0.4, 0.6): 2,\n",
        "        (0.6, 0.8): 3,\n",
        "        (0.8, 1.0): 4\n",
        "    }\n",
        "\n",
        "    for range_, category in mappingFn.items():\n",
        "        if range_[0] <= value <= range_[1]:\n",
        "            return category\n",
        "    else:\n",
        "        return \"Undefined range!\""
      ],
      "metadata": {
        "id": "KMy3gv_bJ6ni"
      },
      "execution_count": 77,
      "outputs": []
    },
    {
      "cell_type": "code",
      "source": [
        "#extract train, validation and test data\n",
        "train_data = dataset['train']\n",
        "val_data = dataset['validation']\n",
        "test_data = dataset['test']"
      ],
      "metadata": {
        "id": "cN64tIvqKJ_C"
      },
      "execution_count": 78,
      "outputs": []
    },
    {
      "cell_type": "code",
      "source": [
        "labels = train_data[\"label\"]\n",
        "train_labels = []\n",
        "for label in labels:\n",
        "  train_labels.append(rangeToCat(label))"
      ],
      "metadata": {
        "id": "_xyl6kfKJ_U4"
      },
      "execution_count": 79,
      "outputs": []
    },
    {
      "cell_type": "code",
      "source": [
        "labels = val_data[\"label\"]\n",
        "val_labels = []\n",
        "for label in labels:\n",
        "  val_labels.append(rangeToCat(label))"
      ],
      "metadata": {
        "id": "Pcx5b1CUL7L_"
      },
      "execution_count": 80,
      "outputs": []
    },
    {
      "cell_type": "code",
      "source": [
        "labels = test_data[\"label\"]\n",
        "test_labels = []\n",
        "for label in labels:\n",
        "  test_labels.append(rangeToCat(label))"
      ],
      "metadata": {
        "id": "JcvPBCWHMAtp"
      },
      "execution_count": 81,
      "outputs": []
    },
    {
      "cell_type": "markdown",
      "source": [
        "# Feature generation functions"
      ],
      "metadata": {
        "id": "IW8SC6EkbI8t"
      }
    },
    {
      "cell_type": "code",
      "source": [
        "# tokenizing sentences bby spliting\n",
        "def tokenize(sentence):\n",
        "  return sentence.split()\n",
        "\n",
        "# Get all possible bigrams from given sentence\n",
        "def generateBigrams(sentence):\n",
        "  words = tokenize(sentence)\n",
        "  return [(words[i + 1], words[i]) for i in range(len(words)-1)]\n",
        "\n",
        "# Generating features for the training set\n",
        "def trainFeatures(dataset):\n",
        "  total_bigrams = set()\n",
        "  for example in dataset:\n",
        "        bigrams = generateBigrams(example['sentence'])\n",
        "        total_bigrams.update(bigrams)\n",
        "\n",
        "  bi_gram_to_index = {bi_gram: index for index, bi_gram in enumerate(total_bigrams)}\n",
        "\n",
        "  features = np.zeros((len(dataset), len(total_bigrams)))\n",
        "\n",
        "  for i, example in enumerate(dataset):\n",
        "    bigrams = generateBigrams(example['sentence'])\n",
        "    for bi_gram in bigrams:\n",
        "      index = bi_gram_to_index.get(bi_gram)\n",
        "      if index is not None:\n",
        "        features[i, index] = 1\n",
        "\n",
        "    return features, total_bigrams\n",
        "\n",
        "# Generating features for validation and test sets\n",
        "def nonTrainFeatures(dataset, total_bigrams):\n",
        "    bi_gram_to_index = {bi_gram: index for index, bi_gram in enumerate(total_bigrams)}\n",
        "\n",
        "    features = np.zeros((len(dataset), len(total_bigrams)))\n",
        "\n",
        "    for i, example in enumerate(dataset):\n",
        "        bigrams = generateBigrams(example['sentence'])\n",
        "        for bi_gram in bigrams:\n",
        "            index = bi_gram_to_index.get(bi_gram)\n",
        "            if index is not None:\n",
        "                features[i, index] = 1\n",
        "\n",
        "    return features"
      ],
      "metadata": {
        "id": "jhtGZsWIYA6u"
      },
      "execution_count": 82,
      "outputs": []
    },
    {
      "cell_type": "markdown",
      "source": [
        "# Features Representaion"
      ],
      "metadata": {
        "id": "SZWnRSZpikxU"
      }
    },
    {
      "cell_type": "code",
      "source": [
        "train_features, bigrams = trainFeatures(train_data)"
      ],
      "metadata": {
        "id": "P0AMFUjXb3qX"
      },
      "execution_count": 83,
      "outputs": []
    },
    {
      "cell_type": "code",
      "source": [
        "val_features = nonTrainFeatures(val_data, bigrams)\n",
        "test_features = nonTrainFeatures(test_data, bigrams)"
      ],
      "metadata": {
        "id": "ihzuVV_ceWwd"
      },
      "execution_count": 84,
      "outputs": []
    },
    {
      "cell_type": "code",
      "source": [
        "print(train_features.shape)\n",
        "print(val_features.shape)\n",
        "print(test_features.shape)"
      ],
      "metadata": {
        "colab": {
          "base_uri": "https://localhost:8080/"
        },
        "id": "f2as08b2hudY",
        "outputId": "ed580039-dc9a-4733-d5c3-0660d2375665"
      },
      "execution_count": 85,
      "outputs": [
        {
          "output_type": "stream",
          "name": "stdout",
          "text": [
            "(8544, 87249)\n",
            "(1101, 87249)\n",
            "(2210, 87249)\n"
          ]
        }
      ]
    },
    {
      "cell_type": "code",
      "source": [
        "train_labels = np.array(train_labels)\n",
        "val_labels = np.array(val_labels)\n",
        "test_labels = np.array(test_labels)"
      ],
      "metadata": {
        "id": "QYtrF7uTMfAa"
      },
      "execution_count": 86,
      "outputs": []
    },
    {
      "cell_type": "code",
      "source": [
        "print(train_labels.shape)\n",
        "print(val_labels.shape)\n",
        "print(test_labels.shape)"
      ],
      "metadata": {
        "colab": {
          "base_uri": "https://localhost:8080/"
        },
        "id": "mUxRRq8IiW61",
        "outputId": "373e0a93-e92e-473d-aaa3-27cc48539956"
      },
      "execution_count": 87,
      "outputs": [
        {
          "output_type": "stream",
          "name": "stdout",
          "text": [
            "(8544,)\n",
            "(1101,)\n",
            "(2210,)\n"
          ]
        }
      ]
    },
    {
      "cell_type": "code",
      "source": [
        "# converting features from float32 to int16\n",
        "train_features = np.array(train_features,dtype = np.int16)\n",
        "val_features = np.array(val_features,dtype = np.int16)\n",
        "test_features = np.array(test_features,dtype = np.int16)"
      ],
      "metadata": {
        "id": "qAjwLh_mirDG"
      },
      "execution_count": 88,
      "outputs": []
    },
    {
      "cell_type": "markdown",
      "source": [
        "#Model building"
      ],
      "metadata": {
        "id": "iYU5p2hR5AJ_"
      }
    },
    {
      "cell_type": "code",
      "source": [
        "# softmax function to return probability of each class\n",
        "def softmax(x):\n",
        "    exp_x = np.exp(x - np.max(x, axis=1, keepdims=True))\n",
        "    return exp_x / np.sum(exp_x, axis=1, keepdims=True)"
      ],
      "metadata": {
        "id": "oI1yfkBv3Oyb"
      },
      "execution_count": 89,
      "outputs": []
    },
    {
      "cell_type": "code",
      "source": [
        "class LogisticRegression:\n",
        "    def __init__(self, learning_rate, num_epochs, batch_size):\n",
        "        self.learning_rate = learning_rate\n",
        "        self.num_epochs = num_epochs\n",
        "        self.batch_size = batch_size\n",
        "        self.weights = None\n",
        "        self.bias = None\n",
        "        self.num_classes = 5\n",
        "\n",
        "    def fit(self, X, y):\n",
        "      n_samples, n_features = X.shape\n",
        "\n",
        "      self.weights = np.zeros((n_features, self.num_classes))\n",
        "      self.bias = np.zeros(self.num_classes)\n",
        "\n",
        "      for epoch in range(self.num_epochs):\n",
        "          X, y = shuffle(X, y)\n",
        "          for start in range(0, n_samples, self.batch_size):\n",
        "            end = min(start + self.batch_size, n_samples)\n",
        "            X_batch = X[start:end]\n",
        "            y_batch = y[start:end]\n",
        "            scores = np.dot(X_batch, self.weights) + self.bias\n",
        "            outputs = softmax(scores)\n",
        "\n",
        "            # one hot encoding\n",
        "            y_encoded = np.eye(self.num_classes)[y_batch]\n",
        "            error = outputs - y_encoded\n",
        "\n",
        "            dw = (1 / n_samples) * np.dot(X_batch.T, error)\n",
        "            db = (1 / n_samples) * np.sum(error, axis=0)\n",
        "\n",
        "            self.weights -= self.learning_rate * dw\n",
        "            self.bias -= self.learning_rate * db\n",
        "\n",
        "    def predict(self, X):\n",
        "        scores = np.dot(X, self.weights) + self.bias\n",
        "        outputs = softmax(scores)\n",
        "        return outputs"
      ],
      "metadata": {
        "id": "ft0bcoa53bQz"
      },
      "execution_count": 90,
      "outputs": []
    },
    {
      "cell_type": "markdown",
      "source": [
        "# Model training"
      ],
      "metadata": {
        "id": "A7TilhzS5p4S"
      }
    },
    {
      "cell_type": "code",
      "source": [
        "model = LogisticRegression(learning_rate=0.01, num_epochs=100, batch_size = 32)\n",
        "model.fit(train_features, train_labels)"
      ],
      "metadata": {
        "id": "UYMkXKbO5wFS"
      },
      "execution_count": 91,
      "outputs": []
    },
    {
      "cell_type": "code",
      "source": [
        "def confusionMatrix(true_labels, predicted_labels):\n",
        "    confusion_matrix = np.zeros((5, 5))\n",
        "    confusion_matrix = np.array(confusion_matrix,dtype = np.int16)\n",
        "    for i in range(len(true_labels)):\n",
        "        true_label = true_labels[i]\n",
        "        predicted_label = predicted_labels[i]\n",
        "        confusion_matrix[predicted_label, true_label] += 1\n",
        "    return confusion_matrix"
      ],
      "metadata": {
        "id": "JBFgFBAMwwv_"
      },
      "execution_count": 92,
      "outputs": []
    },
    {
      "cell_type": "code",
      "source": [
        "import matplotlib.pyplot as plt\n",
        "def plotMatrix(confusion_matrix):\n",
        "  plt.imshow(confusion_matrix, cmap='viridis')\n",
        "\n",
        "  for i in range(confusion_matrix.shape[0]):\n",
        "      for j in range(confusion_matrix.shape[1]):\n",
        "          plt.text(j, i, confusion_matrix[i, j], ha='center', va='center', color='white')\n",
        "\n",
        "  plt.colorbar(label='Count')\n",
        "  plt.xlabel('True Label')\n",
        "  plt.ylabel('Predicted Label')\n",
        "  plt.title('Confusion Matrix')\n",
        "  plt.show()"
      ],
      "metadata": {
        "id": "K5HCI6V072Ta"
      },
      "execution_count": 93,
      "outputs": []
    },
    {
      "cell_type": "code",
      "source": [
        "predictions = model.predict(val_features)\n",
        "predicted_labels = np.argmax(predictions, axis=1)\n",
        "print(f\" Accuracy : {accuracy_score(val_labels, predicted_labels)*100}\")"
      ],
      "metadata": {
        "colab": {
          "base_uri": "https://localhost:8080/"
        },
        "id": "o5iClEC_De-Y",
        "outputId": "ccdb1f7d-e89b-41cc-cd89-17df7e2224a3"
      },
      "execution_count": 94,
      "outputs": [
        {
          "output_type": "stream",
          "name": "stdout",
          "text": [
            " Accuracy : 25.340599455040874\n"
          ]
        }
      ]
    },
    {
      "cell_type": "code",
      "source": [
        "confusion_matrix = confusionMatrix(val_labels, predicted_labels)\n",
        "plotMatrix(confusion_matrix)"
      ],
      "metadata": {
        "colab": {
          "base_uri": "https://localhost:8080/",
          "height": 472
        },
        "id": "C4nsDBJl8SPr",
        "outputId": "ad0200f6-afa2-4380-dde5-2f9e345d8c82"
      },
      "execution_count": 95,
      "outputs": [
        {
          "output_type": "display_data",
          "data": {
            "text/plain": [
              "<Figure size 640x480 with 2 Axes>"
            ],
            "image/png": "[encoded data removed]"
          },
          "metadata": {}
        }
      ]
    },
    {
      "cell_type": "code",
      "source": [
        "def performance(confusionMatrix):\n",
        "\n",
        "  n = confusionMatrix.shape[0] #numberOfClasses\n",
        "  precision = np.zeros(n)\n",
        "  recall = np.zeros(n)\n",
        "  f1_score = np.zeros(n)\n",
        "  for i in range (0,n):\n",
        "    precision[i] = confusionMatrix[i][i] / np.sum(confusionMatrix[:, i])\n",
        "    recall[i] = confusionMatrix[i][i] / np.sum(confusionMatrix[i,:])\n",
        "    f1_score[i] = 2*precision[i]*recall[i] / precision[i] + recall[i]\n",
        "\n",
        "  macroaveraged_precision = np.sum(precision) / n\n",
        "  macroaveraged_recall = np.sum(recall) / n\n",
        "  macroaveraged_f1 = np.sum(f1_score) / n\n",
        "\n",
        "  return precision, recall, f1_score, macroaveraged_precision, macroaveraged_recall, macroaveraged_f1"
      ],
      "metadata": {
        "id": "FudBpnufQdAE"
      },
      "execution_count": 96,
      "outputs": []
    },
    {
      "cell_type": "code",
      "source": [
        "precision, recall, f1_score, macroaveraged_precision, macroaveraged_recall, macroaveraged_f1 = performance(confusion_matrix)"
      ],
      "metadata": {
        "colab": {
          "base_uri": "https://localhost:8080/"
        },
        "id": "nvTItnBC9Ag7",
        "outputId": "7d15f458-4bca-4a4a-e463-05d07685f0d7"
      },
      "execution_count": 98,
      "outputs": [
        {
          "output_type": "stream",
          "name": "stderr",
          "text": [
            "<ipython-input-96-b72c8701c960>:9: RuntimeWarning: invalid value encountered in scalar divide\n",
            "  recall[i] = confusionMatrix[i][i] / np.sum(confusionMatrix[i,:])\n"
          ]
        }
      ]
    },
    {
      "cell_type": "code",
      "source": [
        "for i in range(5):\n",
        "  print(f\"Precision of class {i} is {precision[i]}\")\n",
        "  print(f\"Recall of class {i} is {recall[i]}\")\n",
        "  print(f\"f1 score of class {i} is {f1_score[i]}\")\n",
        "print(f\"Macro averaged percision is {macroaveraged_precision} \")\n",
        "print(f\"Macro averaged recall is {macroaveraged_recall} \")\n",
        "print(f\"Macro averaged f1 score is {macroaveraged_f1} \")"
      ],
      "metadata": {
        "colab": {
          "base_uri": "https://localhost:8080/"
        },
        "id": "PWjFzE83VKnd",
        "outputId": "a8183c5b-01e6-4fa1-e6ba-1e067a4c1773"
      },
      "execution_count": 99,
      "outputs": [
        {
          "output_type": "stream",
          "name": "stdout",
          "text": [
            "Precision of class 0 is 0.0\n",
            "Recall of class 0 is nan\n",
            "f1 score of class 0 is nan\n",
            "Precision of class 1 is 0.0\n",
            "Recall of class 1 is nan\n",
            "f1 score of class 1 is nan\n",
            "Precision of class 2 is 0.0\n",
            "Recall of class 2 is nan\n",
            "f1 score of class 2 is nan\n",
            "Precision of class 3 is 1.0\n",
            "Recall of class 3 is 0.25340599455040874\n",
            "f1 score of class 3 is 0.7602179836512262\n",
            "Precision of class 4 is 0.0\n",
            "Recall of class 4 is nan\n",
            "f1 score of class 4 is nan\n",
            "Macro averaged percision is 0.2 \n",
            "Macro averaged recall is nan \n",
            "Macro averaged f1 score is nan \n"
          ]
        }
      ]
    },
    {
      "cell_type": "code",
      "source": [
        "predictions = model.predict(test_features)\n",
        "predicted_labels = np.argmax(predictions, axis=1)\n",
        "print(f\" Accuracy : {accuracy_score(test_labels, predicted_labels)*100}\")"
      ],
      "metadata": {
        "colab": {
          "base_uri": "https://localhost:8080/"
        },
        "id": "WVL5tHQWEb9_",
        "outputId": "f1e70a9e-e3b3-4c79-ff76-9637d05a793a"
      },
      "execution_count": 100,
      "outputs": [
        {
          "output_type": "stream",
          "name": "stdout",
          "text": [
            " Accuracy : 23.076923076923077\n"
          ]
        }
      ]
    },
    {
      "cell_type": "code",
      "source": [
        "confusion_matrix = confusionMatrix(test_labels, predicted_labels)\n",
        "plotMatrix(confusion_matrix)"
      ],
      "metadata": {
        "colab": {
          "base_uri": "https://localhost:8080/",
          "height": 472
        },
        "id": "yeSl6ND10RiP",
        "outputId": "20cb8060-1e50-416b-b6b8-c15ec4263eb3"
      },
      "execution_count": 101,
      "outputs": [
        {
          "output_type": "display_data",
          "data": {
            "text/plain": [
              "<Figure size 640x480 with 2 Axes>"
            ],
            "image/png": "[encoded data removed]"
          },
          "metadata": {}
        }
      ]
    },
    {
      "cell_type": "code",
      "source": [
        "precision, recall, f1_score, macroaveraged_precision, macroaveraged_recall, macroaveraged_f1 = performance(confusion_matrix)"
      ],
      "metadata": {
        "colab": {
          "base_uri": "https://localhost:8080/"
        },
        "id": "wgPbtmMmWH0h",
        "outputId": "3d9cfdfa-91f3-41b3-cf3e-bf050c6bb55a"
      },
      "execution_count": 103,
      "outputs": [
        {
          "output_type": "stream",
          "name": "stderr",
          "text": [
            "<ipython-input-96-b72c8701c960>:9: RuntimeWarning: invalid value encountered in scalar divide\n",
            "  recall[i] = confusionMatrix[i][i] / np.sum(confusionMatrix[i,:])\n"
          ]
        }
      ]
    },
    {
      "cell_type": "code",
      "source": [
        "for i in range(5):\n",
        "  print(f\"Precision of class {i} is {precision[i]}\")\n",
        "  print(f\"Recall of class {i} is {recall[i]}\")\n",
        "  print(f\"f1 score of class {i} is {f1_score[i]}\")\n",
        "print(f\"Macro averaged percision is {macroaveraged_precision} \")\n",
        "print(f\"Macro averaged recall is {macroaveraged_recall} \")\n",
        "print(f\"Macro averaged f1 score is {macroaveraged_f1} \")"
      ],
      "metadata": {
        "colab": {
          "base_uri": "https://localhost:8080/"
        },
        "id": "O5UZjqLg_JTA",
        "outputId": "fd690cbd-0515-43e2-e99c-effa0d46551b"
      },
      "execution_count": 104,
      "outputs": [
        {
          "output_type": "stream",
          "name": "stdout",
          "text": [
            "Precision of class 0 is 0.0\n",
            "Recall of class 0 is nan\n",
            "f1 score of class 0 is nan\n",
            "Precision of class 1 is 0.0\n",
            "Recall of class 1 is nan\n",
            "f1 score of class 1 is nan\n",
            "Precision of class 2 is 0.0\n",
            "Recall of class 2 is nan\n",
            "f1 score of class 2 is nan\n",
            "Precision of class 3 is 1.0\n",
            "Recall of class 3 is 0.23076923076923078\n",
            "f1 score of class 3 is 0.6923076923076923\n",
            "Precision of class 4 is 0.0\n",
            "Recall of class 4 is nan\n",
            "f1 score of class 4 is nan\n",
            "Macro averaged percision is 0.2 \n",
            "Macro averaged recall is nan \n",
            "Macro averaged f1 score is nan \n"
          ]
        }
      ]
    },
    {
      "cell_type": "markdown",
      "source": [
        "#SK-learn Model"
      ],
      "metadata": {
        "id": "uNISZZN_dRFC"
      }
    },
    {
      "cell_type": "code",
      "source": [
        "from sklearn.linear_model import LogisticRegression\n",
        "model = LogisticRegression(random_state = 42)\n",
        "model.fit(train_features, train_labels)"
      ],
      "metadata": {
        "colab": {
          "base_uri": "https://localhost:8080/",
          "height": 74
        },
        "id": "2iQMr9rddQV3",
        "outputId": "ade4c422-737a-4468-c736-f875911a3cbb"
      },
      "execution_count": 105,
      "outputs": [
        {
          "output_type": "execute_result",
          "data": {
            "text/plain": [
              "LogisticRegression(random_state=42)"
            ],
            "text/html": [
              "<style>#sk-container-id-2 {color: black;background-color: white;}#sk-container-id-2 pre{padding: 0;}#sk-container-id-2 div.sk-toggleable {background-color: white;}#sk-container-id-2 label.sk-toggleable__label {cursor: pointer;display: block;width: 100%;margin-bottom: 0;padding: 0.3em;box-sizing: border-box;text-align: center;}#sk-container-id-2 label.sk-toggleable__label-arrow:before {content: \"▸\";float: left;margin-right: 0.25em;color: #696969;}#sk-container-id-2 label.sk-toggleable__label-arrow:hover:before {color: black;}#sk-container-id-2 div.sk-estimator:hover label.sk-toggleable__label-arrow:before {color: black;}#sk-container-id-2 div.sk-toggleable__content {max-height: 0;max-width: 0;overflow: hidden;text-align: left;background-color: #f0f8ff;}#sk-container-id-2 div.sk-toggleable__content pre {margin: 0.2em;color: black;border-radius: 0.25em;background-color: #f0f8ff;}#sk-container-id-2 input.sk-toggleable__control:checked~div.sk-toggleable__content {max-height: 200px;max-width: 100%;overflow: auto;}#sk-container-id-2 input.sk-toggleable__control:checked~label.sk-toggleable__label-arrow:before {content: \"▾\";}#sk-container-id-2 div.sk-estimator input.sk-toggleable__control:checked~label.sk-toggleable__label {background-color: #d4ebff;}#sk-container-id-2 div.sk-label input.sk-toggleable__control:checked~label.sk-toggleable__label {background-color: #d4ebff;}#sk-container-id-2 input.sk-hidden--visually {border: 0;clip: rect(1px 1px 1px 1px);clip: rect(1px, 1px, 1px, 1px);height: 1px;margin: -1px;overflow: hidden;padding: 0;position: absolute;width: 1px;}#sk-container-id-2 div.sk-estimator {font-family: monospace;background-color: #f0f8ff;border: 1px dotted black;border-radius: 0.25em;box-sizing: border-box;margin-bottom: 0.5em;}#sk-container-id-2 div.sk-estimator:hover {background-color: #d4ebff;}#sk-container-id-2 div.sk-parallel-item::after {content: \"\";width: 100%;border-bottom: 1px solid gray;flex-grow: 1;}#sk-container-id-2 div.sk-label:hover label.sk-toggleable__label {background-color: #d4ebff;}#sk-container-id-2 div.sk-serial::before {content: \"\";position: absolute;border-left: 1px solid gray;box-sizing: border-box;top: 0;bottom: 0;left: 50%;z-index: 0;}#sk-container-id-2 div.sk-serial {display: flex;flex-direction: column;align-items: center;background-color: white;padding-right: 0.2em;padding-left: 0.2em;position: relative;}#sk-container-id-2 div.sk-item {position: relative;z-index: 1;}#sk-container-id-2 div.sk-parallel {display: flex;align-items: stretch;justify-content: center;background-color: white;position: relative;}#sk-container-id-2 div.sk-item::before, #sk-container-id-2 div.sk-parallel-item::before {content: \"\";position: absolute;border-left: 1px solid gray;box-sizing: border-box;top: 0;bottom: 0;left: 50%;z-index: -1;}#sk-container-id-2 div.sk-parallel-item {display: flex;flex-direction: column;z-index: 1;position: relative;background-color: white;}#sk-container-id-2 div.sk-parallel-item:first-child::after {align-self: flex-end;width: 50%;}#sk-container-id-2 div.sk-parallel-item:last-child::after {align-self: flex-start;width: 50%;}#sk-container-id-2 div.sk-parallel-item:only-child::after {width: 0;}#sk-container-id-2 div.sk-dashed-wrapped {border: 1px dashed gray;margin: 0 0.4em 0.5em 0.4em;box-sizing: border-box;padding-bottom: 0.4em;background-color: white;}#sk-container-id-2 div.sk-label label {font-family: monospace;font-weight: bold;display: inline-block;line-height: 1.2em;}#sk-container-id-2 div.sk-label-container {text-align: center;}#sk-container-id-2 div.sk-container {/* jupyter's `normalize.less` sets `[hidden] { display: none; }` but bootstrap.min.css set `[hidden] { display: none !important; }` so we also need the `!important` here to be able to override the default hidden behavior on the sphinx rendered scikit-learn.org. See: https://github.com/scikit-learn/scikit-learn/issues/21755 */display: inline-block !important;position: relative;}#sk-container-id-2 div.sk-text-repr-fallback {display: none;}</style><div id=\"sk-container-id-2\" class=\"sk-top-container\"><div class=\"sk-text-repr-fallback\"><pre>LogisticRegression(random_state=42)</pre><b>In a Jupyter environment, please rerun this cell to show the HTML representation or trust the notebook. <br />On GitHub, the HTML representation is unable to render, please try loading this page with nbviewer.org.</b></div><div class=\"sk-container\" hidden><div class=\"sk-item\"><div class=\"sk-estimator sk-toggleable\"><input class=\"sk-toggleable__control sk-hidden--visually\" id=\"sk-estimator-id-2\" type=\"checkbox\" checked><label for=\"sk-estimator-id-2\" class=\"sk-toggleable__label sk-toggleable__label-arrow\">LogisticRegression</label><div class=\"sk-toggleable__content\"><pre>LogisticRegression(random_state=42)</pre></div></div></div></div></div>"
            ]
          },
          "metadata": {},
          "execution_count": 105
        }
      ]
    },
    {
      "cell_type": "code",
      "source": [
        "predictions = model.predict(val_features)\n",
        "print(f\" Accuracy : {accuracy_score(val_labels, predictions)*100}\")"
      ],
      "metadata": {
        "colab": {
          "base_uri": "https://localhost:8080/"
        },
        "id": "WQZ0gPfgdhFA",
        "outputId": "d390cb9b-2b9a-420b-a624-9e2d7b0230b7"
      },
      "execution_count": 106,
      "outputs": [
        {
          "output_type": "stream",
          "name": "stdout",
          "text": [
            " Accuracy : 25.340599455040874\n"
          ]
        }
      ]
    },
    {
      "cell_type": "code",
      "source": [
        "from sklearn.metrics import confusion_matrix, ConfusionMatrixDisplay\n",
        "\n",
        "confusionMatrix = confusion_matrix(val_labels, predictions)\n",
        "cm_display = ConfusionMatrixDisplay(confusion_matrix=confusionMatrix)\n",
        "\n",
        "# Plot confusion matrix\n",
        "fig, ax = plt.subplots(figsize=(8, 6))\n",
        "cm_display.plot(ax=ax, cmap=plt.cm.Blues)\n",
        "plt.title('Confusion Matrix')\n",
        "plt.show()"
      ],
      "metadata": {
        "colab": {
          "base_uri": "https://localhost:8080/",
          "height": 564
        },
        "id": "4auqcKXXWcHZ",
        "outputId": "d474be17-4a95-4b8c-833f-558490863f59"
      },
      "execution_count": 107,
      "outputs": [
        {
          "output_type": "display_data",
          "data": {
            "text/plain": [
              "<Figure size 800x600 with 2 Axes>"
            ],
            "image/png": "[encoded data removed]"
          },
          "metadata": {}
        }
      ]
    },
    {
      "cell_type": "code",
      "source": [
        "from sklearn.metrics import precision_score, recall_score, f1_score\n",
        "\n",
        "precision = precision_score(val_labels, predictions, average='macro')  # or 'micro', 'weighted', 'samples', 'macro'\n",
        "recall = recall_score(val_labels, predictions, average='macro')\n",
        "f1 = f1_score(val_labels, predictions, average='macro')\n",
        "print(f\"precision: {precision}\\n\")\n",
        "print(f\"recall: {recall}\\n\")\n",
        "print(f\"f1_score: {f1}\\n\")"
      ],
      "metadata": {
        "colab": {
          "base_uri": "https://localhost:8080/"
        },
        "id": "IdYavILLWfoW",
        "outputId": "ae81bc0b-7d1c-460a-daea-9089e0f94405"
      },
      "execution_count": 108,
      "outputs": [
        {
          "output_type": "stream",
          "name": "stdout",
          "text": [
            "precision: 0.05068119891008175\n",
            "\n",
            "recall: 0.2\n",
            "\n",
            "f1_score: 0.0808695652173913\n",
            "\n"
          ]
        },
        {
          "output_type": "stream",
          "name": "stderr",
          "text": [
            "/usr/local/lib/python3.10/dist-packages/sklearn/metrics/_classification.py:1344: UndefinedMetricWarning: Precision is ill-defined and being set to 0.0 in labels with no predicted samples. Use `zero_division` parameter to control this behavior.\n",
            "  _warn_prf(average, modifier, msg_start, len(result))\n"
          ]
        }
      ]
    },
    {
      "cell_type": "code",
      "source": [
        "predictions = model.predict(test_features)\n",
        "print(f\" Accuracy : {accuracy_score(test_labels, predictions)*100}\")"
      ],
      "metadata": {
        "colab": {
          "base_uri": "https://localhost:8080/"
        },
        "id": "dxzavODWdjNd",
        "outputId": "b43424a8-7756-47b4-de58-cde6ad5a0a8f"
      },
      "execution_count": 109,
      "outputs": [
        {
          "output_type": "stream",
          "name": "stdout",
          "text": [
            " Accuracy : 23.076923076923077\n"
          ]
        }
      ]
    },
    {
      "cell_type": "code",
      "source": [
        "confusionMatrix = confusion_matrix(test_labels, predictions)\n",
        "cm_display = ConfusionMatrixDisplay(confusion_matrix=confusionMatrix)\n",
        "\n",
        "# Plot confusion matrix\n",
        "fig, ax = plt.subplots(figsize=(8, 6))\n",
        "cm_display.plot(ax=ax, cmap=plt.cm.Blues)\n",
        "plt.title('Confusion Matrix')\n",
        "plt.show()"
      ],
      "metadata": {
        "colab": {
          "base_uri": "https://localhost:8080/",
          "height": 564
        },
        "id": "30oM_zZbRcGv",
        "outputId": "02e55955-6143-4274-af38-16cd58a8b949"
      },
      "execution_count": 111,
      "outputs": [
        {
          "output_type": "display_data",
          "data": {
            "text/plain": [
              "<Figure size 800x600 with 2 Axes>"
            ],
            "image/png": "[encoded data removed]"
          },
          "metadata": {}
        }
      ]
    },
    {
      "cell_type": "code",
      "source": [
        "precision = precision_score(test_labels, predictions, average='macro')  # or 'micro', 'weighted', 'samples', 'macro'\n",
        "recall = recall_score(test_labels, predictions, average='macro')\n",
        "f1 = f1_score(test_labels, predictions, average='macro')\n",
        "print(f\"precision: {precision}\\n\")\n",
        "print(f\"recall: {recall}\\n\")\n",
        "print(f\"f1_score: {f1}\\n\")"
      ],
      "metadata": {
        "colab": {
          "base_uri": "https://localhost:8080/"
        },
        "id": "QF6yNJnCWXmv",
        "outputId": "4c72d932-ff9f-474d-9174-ada297a122a3"
      },
      "execution_count": 112,
      "outputs": [
        {
          "output_type": "stream",
          "name": "stdout",
          "text": [
            "precision: 0.046153846153846156\n",
            "\n",
            "recall: 0.2\n",
            "\n",
            "f1_score: 0.075\n",
            "\n"
          ]
        },
        {
          "output_type": "stream",
          "name": "stderr",
          "text": [
            "/usr/local/lib/python3.10/dist-packages/sklearn/metrics/_classification.py:1344: UndefinedMetricWarning: Precision is ill-defined and being set to 0.0 in labels with no predicted samples. Use `zero_division` parameter to control this behavior.\n",
            "  _warn_prf(average, modifier, msg_start, len(result))\n"
          ]
        }
      ]
    }
  ]
}