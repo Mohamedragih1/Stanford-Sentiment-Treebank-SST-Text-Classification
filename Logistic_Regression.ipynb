{
  "nbformat": 4,
  "nbformat_minor": 0,
  "metadata": {
    "colab": {
      "provenance": [],
      "authorship_tag": "ABX9TyPRDYZ7YRYtDjjb9Vd6qvyH",
      "include_colab_link": true
    },
    "kernelspec": {
      "name": "python3",
      "display_name": "Python 3"
    },
    "language_info": {
      "name": "python"
    }
  },
  "cells": [
    {
      "cell_type": "markdown",
      "metadata": {
        "id": "view-in-github",
        "colab_type": "text"
      },
      "source": [
        "<a href=\"https://colab.research.google.com/github/Mohamedragih1/Stanford-Sentiment-Treebank-SST-Text-Classification/blob/main/Logistic_Regression.ipynb\" target=\"_parent\"><img src=\"https://colab.research.google.com/assets/colab-badge.svg\" alt=\"Open In Colab\"/></a>"
      ]
    },
    {
      "cell_type": "code",
      "execution_count": 48,
      "metadata": {
        "id": "2qGQQlVNSm39"
      },
      "outputs": [],
      "source": [
        "import numpy as np\n",
        "import pandas as pd"
      ]
    },
    {
      "cell_type": "code",
      "source": [
        "!pip install datasets\n",
        "from datasets import load_dataset, DatasetDict\n",
        "\n",
        "dataset = load_dataset(\"sst\", \"default\")"
      ],
      "metadata": {
        "id": "HVllze2RTzmU"
      },
      "execution_count": 49,
      "outputs": []
    },
    {
      "cell_type": "code",
      "source": [
        "def sigmoid(x):\n",
        "  sig = (1 / (1 + pow(np.e, -x)))\n",
        "  return sig"
      ],
      "metadata": {
        "id": "9Ob70QZq2TYS"
      },
      "execution_count": 50,
      "outputs": []
    },
    {
      "cell_type": "code",
      "source": [
        "class LogisticRegression:\n",
        "  def __init___(self, learning_rate = 0.01):\n",
        "    self.learning_rate = learning_rate\n",
        "    self.weights = None\n",
        "    self.bais = None\n",
        "\n",
        "  def fit(self, X, y):\n",
        "    n_samples, n_features = X.shape\n",
        "    self.weights = np.zeros(n_features)\n",
        "    self.bais = 0\n",
        "\n",
        "    while True:\n",
        "      z = np.dot(X, self.weights) + self.bais\n",
        "      sig = sigmoid(z)\n",
        "      dw = (1 / n_samples)*(2*np.dot(X.T, (sig - y)))\n",
        "      db = (1 / n_samples)*(2*(sig - y))\n",
        "\n",
        "      if dw == 0 and db == 0:\n",
        "        break\n",
        "\n",
        "      self.weights = self.weights - self.learning_rate * dw\n",
        "      self.bais = self.bais - self.learning_rate * db\n",
        "\n",
        "  def predict(X):\n",
        "    outputs = np.dot(X, self.weights) + self.bais\n",
        "    probabilities = sigmoid(outputs)\n",
        "    predictions = [1 if probability >= 0.5 else 0 for probability in probabilities]\n",
        "    return predictions\n"
      ],
      "metadata": {
        "id": "o93dvHCt5rNF"
      },
      "execution_count": 68,
      "outputs": []
    },
    {
      "cell_type": "code",
      "source": [
        "dataset_dict = DatasetDict(dataset)\n",
        "dfs = {}\n",
        "for key in dataset_dict.keys():\n",
        "    dfs[key] = pd.DataFrame(dataset_dict[key])"
      ],
      "metadata": {
        "id": "KgxRYG78cYBx"
      },
      "execution_count": 57,
      "outputs": []
    },
    {
      "cell_type": "code",
      "source": [
        "y_train = dfs[\"train\"][\"label\"]\n",
        "X_train = dfs[\"train\"].drop(columns=[\"label\"])\n",
        "\n",
        "y_val = dfs[\"validation\"][\"label\"]\n",
        "X_val = dfs[\"validation\"].drop(columns=[\"label\"])\n",
        "\n",
        "y_test = dfs[\"test\"][\"label\"]\n",
        "X_test = dfs[\"test\"].drop(columns=[\"label\"])"
      ],
      "metadata": {
        "colab": {
          "base_uri": "https://localhost:8080/"
        },
        "id": "gsAevEMHfFce",
        "outputId": "56a342f3-3e53-433a-9cef-cd47e82c5bed"
      },
      "execution_count": 75,
      "outputs": [
        {
          "output_type": "stream",
          "name": "stdout",
          "text": [
            "<class 'pandas.core.series.Series'>\n",
            "RangeIndex: 8544 entries, 0 to 8543\n",
            "Series name: sentence\n",
            "Non-Null Count  Dtype \n",
            "--------------  ----- \n",
            "8544 non-null   object\n",
            "dtypes: object(1)\n",
            "memory usage: 66.9+ KB\n"
          ]
        }
      ]
    }
  ]
}