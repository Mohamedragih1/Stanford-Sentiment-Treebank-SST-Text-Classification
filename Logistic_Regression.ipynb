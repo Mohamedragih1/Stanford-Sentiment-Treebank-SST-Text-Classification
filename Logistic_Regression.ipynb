{
  "nbformat": 4,
  "nbformat_minor": 0,
  "metadata": {
    "colab": {
      "provenance": [],
      "gpuType": "T4",
      "authorship_tag": "ABX9TyNupQk6paEguUivwdbkw6DC",
      "include_colab_link": true
    },
    "kernelspec": {
      "name": "python3",
      "display_name": "Python 3"
    },
    "language_info": {
      "name": "python"
    },
    "accelerator": "GPU"
  },
  "cells": [
    {
      "cell_type": "markdown",
      "metadata": {
        "id": "view-in-github",
        "colab_type": "text"
      },
      "source": [
        "<a href=\"https://colab.research.google.com/github/Mohamedragih1/Stanford-Sentiment-Treebank-SST-Text-Classification/blob/main/Logistic_Regression.ipynb\" target=\"_parent\"><img src=\"https://colab.research.google.com/assets/colab-badge.svg\" alt=\"Open In Colab\"/></a>"
      ]
    },
    {
      "cell_type": "markdown",
      "source": [
        "# Data loading"
      ],
      "metadata": {
        "id": "0Kp7BWcJUPlf"
      }
    },
    {
      "cell_type": "code",
      "execution_count": null,
      "metadata": {
        "id": "2XglS38tReyI"
      },
      "outputs": [],
      "source": [
        "#Import required libraries\n",
        "import numpy as np\n",
        "!pip install datasets\n",
        "from datasets import load_dataset\n",
        "from sklearn.utils import shuffle\n",
        "from sklearn.metrics import accuracy_score"
      ]
    },
    {
      "cell_type": "code",
      "source": [
        "#Load data\n",
        "dataset = load_dataset(\"sst\", \"default\")"
      ],
      "metadata": {
        "id": "wLdfMfO7R7qi"
      },
      "execution_count": 75,
      "outputs": []
    },
    {
      "cell_type": "markdown",
      "source": [
        "#Preprocessing"
      ],
      "metadata": {
        "id": "eWCNccflULfg"
      }
    },
    {
      "cell_type": "code",
      "source": [
        "def rangeToCat(value):\n",
        "    mappingFn = {\n",
        "        (0, 0.2): 0,\n",
        "        (0.2, 0.4): 1,\n",
        "        (0.4, 0.6): 2,\n",
        "        (0.6, 0.8): 3,\n",
        "        (0.8, 1.0): 4\n",
        "    }\n",
        "\n",
        "    for range_, category in mappingFn.items():\n",
        "        if range_[0] <= value <= range_[1]:\n",
        "            return category\n",
        "    else:\n",
        "        return \"Undefined range!\""
      ],
      "metadata": {
        "id": "KMy3gv_bJ6ni"
      },
      "execution_count": 76,
      "outputs": []
    },
    {
      "cell_type": "code",
      "source": [
        "#extract train, validation and test data\n",
        "train_data = dataset['train']\n",
        "val_data = dataset['validation']\n",
        "test_data = dataset['test']"
      ],
      "metadata": {
        "id": "cN64tIvqKJ_C"
      },
      "execution_count": 77,
      "outputs": []
    },
    {
      "cell_type": "code",
      "source": [
        "labels = train_data[\"label\"]\n",
        "train_labels = []\n",
        "for label in labels:\n",
        "  train_labels.append(rangeToCat(label))"
      ],
      "metadata": {
        "id": "_xyl6kfKJ_U4"
      },
      "execution_count": 78,
      "outputs": []
    },
    {
      "cell_type": "code",
      "source": [
        "labels = val_data[\"label\"]\n",
        "val_labels = []\n",
        "for label in labels:\n",
        "  val_labels.append(rangeToCat(label))"
      ],
      "metadata": {
        "id": "Pcx5b1CUL7L_"
      },
      "execution_count": 79,
      "outputs": []
    },
    {
      "cell_type": "code",
      "source": [
        "labels = test_data[\"label\"]\n",
        "test_labels = []\n",
        "for label in labels:\n",
        "  test_labels.append(rangeToCat(label))"
      ],
      "metadata": {
        "id": "JcvPBCWHMAtp"
      },
      "execution_count": 80,
      "outputs": []
    },
    {
      "cell_type": "markdown",
      "source": [
        "# Feature generation functions"
      ],
      "metadata": {
        "id": "IW8SC6EkbI8t"
      }
    },
    {
      "cell_type": "code",
      "source": [
        "# tokenizing sentences bby spliting\n",
        "def tokenize(sentence):\n",
        "    return sentence.split()\n",
        "\n",
        "# Get all possible bigrams from given sentence\n",
        "def generateBigrams(sentence):\n",
        "    words = tokenize(sentence)\n",
        "    for i in range(len(words)-1):\n",
        "        yield (words[i+1], words[i])  # Fixed the order of words\n",
        "\n",
        "# Generating features for the training set\n",
        "def trainFeatures(dataset):\n",
        "    total_bigrams = set()\n",
        "    for example in dataset:\n",
        "        bigrams = generateBigrams(example['sentence'])\n",
        "        for bi_gram in bigrams:  # Iterate over the yielded values\n",
        "            total_bigrams.add(bi_gram)\n",
        "\n",
        "    bi_gram_to_index = {bi_gram: index for index, bi_gram in enumerate(total_bigrams)}\n",
        "\n",
        "    features = np.zeros((len(dataset), len(total_bigrams)))\n",
        "\n",
        "    for i, example in enumerate(dataset):\n",
        "        bigrams = generateBigrams(example['sentence'])\n",
        "        for bi_gram in bigrams:  # Iterate over the yielded values\n",
        "            index = bi_gram_to_index.get(bi_gram)\n",
        "            if index is not None:\n",
        "                features[i, index] = 1\n",
        "\n",
        "    return features, total_bigrams\n",
        "\n",
        "# Generating features for validation and test sets\n",
        "def nonTrainFeatures(dataset, total_bigrams):\n",
        "    bi_gram_to_index = {bi_gram: index for index, bi_gram in enumerate(total_bigrams)}\n",
        "\n",
        "    features = np.zeros((len(dataset), len(total_bigrams)))\n",
        "\n",
        "    for i, example in enumerate(dataset):\n",
        "        bigrams = generateBigrams(example['sentence'])\n",
        "        for bi_gram in bigrams:\n",
        "            index = bi_gram_to_index.get(bi_gram)\n",
        "            if index is not None:\n",
        "                features[i, index] = 1\n",
        "\n",
        "    return features"
      ],
      "metadata": {
        "id": "jhtGZsWIYA6u"
      },
      "execution_count": 81,
      "outputs": []
    },
    {
      "cell_type": "markdown",
      "source": [
        "# Features Representaion"
      ],
      "metadata": {
        "id": "SZWnRSZpikxU"
      }
    },
    {
      "cell_type": "code",
      "source": [
        "train_features, bigrams = trainFeatures(train_data)"
      ],
      "metadata": {
        "id": "P0AMFUjXb3qX"
      },
      "execution_count": 82,
      "outputs": []
    },
    {
      "cell_type": "code",
      "source": [
        "val_features = nonTrainFeatures(val_data, bigrams)\n",
        "test_features = nonTrainFeatures(test_data, bigrams)"
      ],
      "metadata": {
        "id": "ihzuVV_ceWwd"
      },
      "execution_count": 83,
      "outputs": []
    },
    {
      "cell_type": "code",
      "source": [
        "print(train_features.shape)\n",
        "print(val_features.shape)\n",
        "print(test_features.shape)"
      ],
      "metadata": {
        "colab": {
          "base_uri": "https://localhost:8080/"
        },
        "id": "f2as08b2hudY",
        "outputId": "e8511cd8-9c94-4e92-e99f-fcda6ca4605b"
      },
      "execution_count": 84,
      "outputs": [
        {
          "output_type": "stream",
          "name": "stdout",
          "text": [
            "(8544, 87249)\n",
            "(1101, 87249)\n",
            "(2210, 87249)\n"
          ]
        }
      ]
    },
    {
      "cell_type": "code",
      "source": [
        "train_labels = np.array(train_labels)\n",
        "val_labels = np.array(val_labels)\n",
        "test_labels = np.array(test_labels)"
      ],
      "metadata": {
        "id": "QYtrF7uTMfAa"
      },
      "execution_count": 85,
      "outputs": []
    },
    {
      "cell_type": "code",
      "source": [
        "print(train_labels.shape)\n",
        "print(val_labels.shape)\n",
        "print(test_labels.shape)"
      ],
      "metadata": {
        "colab": {
          "base_uri": "https://localhost:8080/"
        },
        "id": "mUxRRq8IiW61",
        "outputId": "92c709f5-6bd3-440f-c0a4-38d411867d19"
      },
      "execution_count": 86,
      "outputs": [
        {
          "output_type": "stream",
          "name": "stdout",
          "text": [
            "(8544,)\n",
            "(1101,)\n",
            "(2210,)\n"
          ]
        }
      ]
    },
    {
      "cell_type": "code",
      "source": [
        "# converting features from float32 to int16\n",
        "train_features = np.array(train_features,dtype = np.int16)\n",
        "val_features = np.array(val_features,dtype = np.int16)\n",
        "test_features = np.array(test_features,dtype = np.int16)"
      ],
      "metadata": {
        "id": "qAjwLh_mirDG"
      },
      "execution_count": 87,
      "outputs": []
    },
    {
      "cell_type": "markdown",
      "source": [
        "#Model building"
      ],
      "metadata": {
        "id": "iYU5p2hR5AJ_"
      }
    },
    {
      "cell_type": "code",
      "source": [
        "# softmax function to return probability of each class\n",
        "def softmax(x):\n",
        "    exp_x = np.exp(x - np.max(x, axis=1, keepdims=True))\n",
        "    return exp_x / np.sum(exp_x, axis=1, keepdims=True)"
      ],
      "metadata": {
        "id": "oI1yfkBv3Oyb"
      },
      "execution_count": 88,
      "outputs": []
    },
    {
      "cell_type": "code",
      "source": [
        "class LogisticRegression:\n",
        "    def __init__(self, num_features, num_classes, learning_rate=0.01, num_epochs=100, batch_size=32):\n",
        "        self.num_features = num_features\n",
        "        self.num_classes = num_classes\n",
        "        self.learning_rate = learning_rate\n",
        "        self.num_epochs = num_epochs\n",
        "        self.batch_size = batch_size\n",
        "        self.weights = np.random.randn(num_features, num_classes)\n",
        "        self.bias = np.zeros(num_classes)\n",
        "\n",
        "    def softmax(self, x):\n",
        "        exps = np.exp(x - np.max(x, axis=1, keepdims=True))\n",
        "        return exps / np.sum(exps, axis=1, keepdims=True)\n",
        "\n",
        "    def fit(self, X, y):\n",
        "        for epoch in range(self.num_epochs):\n",
        "            indices = np.random.permutation(len(X))\n",
        "            X_shuffled = X[indices]\n",
        "            y_shuffled = y[indices]\n",
        "\n",
        "            for i in range(0, len(X), self.batch_size):\n",
        "                batch_X = X_shuffled[i:i+self.batch_size]\n",
        "                batch_y = y_shuffled[i:i+self.batch_size]\n",
        "\n",
        "                logits = np.dot(batch_X, self.weights) + self.bias\n",
        "                probabilities = self.softmax(logits)\n",
        "\n",
        "                one_hot_labels = np.eye(self.num_classes)[batch_y]\n",
        "                loss = -np.mean(one_hot_labels * np.log(probabilities + 1e-10))\n",
        "\n",
        "                gradient = probabilities - one_hot_labels\n",
        "                weight_gradient = np.dot(batch_X.T, gradient)\n",
        "                bias_gradient = np.sum(gradient, axis=0)\n",
        "\n",
        "                self.weights -= self.learning_rate * weight_gradient\n",
        "                self.bias -= self.learning_rate * bias_gradient\n",
        "\n",
        "    def predict(self, X):\n",
        "        logits = np.dot(X, self.weights) + self.bias\n",
        "        probabilities = self.softmax(logits)\n",
        "        return np.argmax(probabilities, axis=1)"
      ],
      "metadata": {
        "id": "ft0bcoa53bQz"
      },
      "execution_count": 121,
      "outputs": []
    },
    {
      "cell_type": "markdown",
      "source": [
        "# Model training"
      ],
      "metadata": {
        "id": "A7TilhzS5p4S"
      }
    },
    {
      "cell_type": "code",
      "source": [
        "model = LogisticRegression(num_features=train_features.shape[1], num_classes=5)\n",
        "model.fit(train_features, train_labels)"
      ],
      "metadata": {
        "id": "UYMkXKbO5wFS"
      },
      "execution_count": 122,
      "outputs": []
    },
    {
      "cell_type": "code",
      "source": [
        "def confusionMatrix(true_labels, predicted_labels):\n",
        "    confusion_matrix = np.zeros((5, 5))\n",
        "    confusion_matrix = np.array(confusion_matrix,dtype = np.int16)\n",
        "    for i in range(len(true_labels)):\n",
        "        true_label = true_labels[i]\n",
        "        predicted_label = predicted_labels[i]\n",
        "        confusion_matrix[predicted_label, true_label] += 1\n",
        "    return confusion_matrix"
      ],
      "metadata": {
        "id": "JBFgFBAMwwv_"
      },
      "execution_count": 130,
      "outputs": []
    },
    {
      "cell_type": "code",
      "source": [
        "import matplotlib.pyplot as plt\n",
        "def plotMatrix(confusion_matrix):\n",
        "  plt.imshow(confusion_matrix, cmap='viridis')\n",
        "\n",
        "  for i in range(confusion_matrix.shape[0]):\n",
        "      for j in range(confusion_matrix.shape[1]):\n",
        "          plt.text(j, i, confusion_matrix[i, j], ha='center', va='center', color='white')\n",
        "\n",
        "  plt.colorbar(label='Count')\n",
        "  plt.xlabel('True Label')\n",
        "  plt.ylabel('Predicted Label')\n",
        "  plt.title('Confusion Matrix')\n",
        "  plt.show()"
      ],
      "metadata": {
        "id": "K5HCI6V072Ta"
      },
      "execution_count": 131,
      "outputs": []
    },
    {
      "cell_type": "code",
      "source": [
        "predictions = model.predict(val_features)\n",
        "print(f\" Accuracy : {accuracy_score(val_labels, predictions)*100}\")"
      ],
      "metadata": {
        "colab": {
          "base_uri": "https://localhost:8080/"
        },
        "id": "o5iClEC_De-Y",
        "outputId": "3e75cb24-850a-450f-9356-35e23a9ded6d"
      },
      "execution_count": 132,
      "outputs": [
        {
          "output_type": "stream",
          "name": "stdout",
          "text": [
            " Accuracy : 27.157129881925524\n"
          ]
        }
      ]
    },
    {
      "cell_type": "code",
      "source": [
        "confusion_matrix = confusionMatrix(val_labels, predictions)\n",
        "plotMatrix(confusion_matrix)"
      ],
      "metadata": {
        "colab": {
          "base_uri": "https://localhost:8080/",
          "height": 472
        },
        "id": "C4nsDBJl8SPr",
        "outputId": "03f99e9d-3962-43af-a2fe-f36f35c85132"
      },
      "execution_count": 133,
      "outputs": [
        {
          "output_type": "display_data",
          "data": {
            "text/plain": [
              "<Figure size 640x480 with 2 Axes>"
            ],
            "image/png": "[encoded data removed]"
          },
          "metadata": {}
        }
      ]
    },
    {
      "cell_type": "code",
      "source": [
        "def performance(confusionMatrix):\n",
        "\n",
        "  n = confusionMatrix.shape[0] #numberOfClasses\n",
        "  precision = np.zeros(n)\n",
        "  recall = np.zeros(n)\n",
        "  f1_score = np.zeros(n)\n",
        "  for i in range (0,n):\n",
        "    precision[i] = confusionMatrix[i][i] / np.sum(confusionMatrix[:, i])\n",
        "    recall[i] = confusionMatrix[i][i] / np.sum(confusionMatrix[i,:])\n",
        "    f1_score[i] = 2*precision[i]*recall[i] / precision[i] + recall[i]\n",
        "\n",
        "  macroaveraged_precision = np.sum(precision) / n\n",
        "  macroaveraged_recall = np.sum(recall) / n\n",
        "  macroaveraged_f1 = np.sum(f1_score) / n\n",
        "\n",
        "  return precision, recall, f1_score, macroaveraged_precision, macroaveraged_recall, macroaveraged_f1"
      ],
      "metadata": {
        "id": "FudBpnufQdAE"
      },
      "execution_count": 134,
      "outputs": []
    },
    {
      "cell_type": "code",
      "source": [
        "precision, recall, f1_score, macroaveraged_precision, macroaveraged_recall, macroaveraged_f1 = performance(confusion_matrix)"
      ],
      "metadata": {
        "id": "nvTItnBC9Ag7"
      },
      "execution_count": 135,
      "outputs": []
    },
    {
      "cell_type": "code",
      "source": [
        "for i in range(5):\n",
        "  print(f\"Precision of class {i} is {precision[i]}\")\n",
        "  print(f\"Recall of class {i} is {recall[i]}\")\n",
        "  print(f\"f1 score of class {i} is {f1_score[i]}\")\n",
        "print(f\"Macro averaged percision is {macroaveraged_precision} \")\n",
        "print(f\"Macro averaged recall is {macroaveraged_recall} \")\n",
        "print(f\"Macro averaged f1 score is {macroaveraged_f1} \")"
      ],
      "metadata": {
        "colab": {
          "base_uri": "https://localhost:8080/"
        },
        "id": "PWjFzE83VKnd",
        "outputId": "aac36703-c4d4-4f04-b6f2-a414aab3ef93"
      },
      "execution_count": 136,
      "outputs": [
        {
          "output_type": "stream",
          "name": "stdout",
          "text": [
            "Precision of class 0 is 0.18705035971223022\n",
            "Recall of class 0 is 0.18705035971223022\n",
            "f1 score of class 0 is 0.5611510791366907\n",
            "Precision of class 1 is 0.31141868512110726\n",
            "Recall of class 1 is 0.297029702970297\n",
            "f1 score of class 1 is 0.891089108910891\n",
            "Precision of class 2 is 0.22707423580786026\n",
            "Recall of class 2 is 0.24528301886792453\n",
            "f1 score of class 2 is 0.7358490566037736\n",
            "Precision of class 3 is 0.32616487455197135\n",
            "Recall of class 3 is 0.30333333333333334\n",
            "f1 score of class 3 is 0.91\n",
            "Precision of class 4 is 0.24242424242424243\n",
            "Recall of class 4 is 0.272108843537415\n",
            "f1 score of class 4 is 0.8163265306122449\n",
            "Macro averaged percision is 0.2588264795234823 \n",
            "Macro averaged recall is 0.26096105168424005 \n",
            "Macro averaged f1 score is 0.7828831550527201 \n"
          ]
        }
      ]
    },
    {
      "cell_type": "code",
      "source": [
        "predictions = model.predict(test_features)\n",
        "print(f\" Accuracy : {accuracy_score(test_labels, predictions)*100}\")"
      ],
      "metadata": {
        "colab": {
          "base_uri": "https://localhost:8080/"
        },
        "id": "WVL5tHQWEb9_",
        "outputId": "52f407c7-ecfc-4b2d-82b0-b19d473832a6"
      },
      "execution_count": 137,
      "outputs": [
        {
          "output_type": "stream",
          "name": "stdout",
          "text": [
            " Accuracy : 27.058823529411764\n"
          ]
        }
      ]
    },
    {
      "cell_type": "code",
      "source": [
        "confusion_matrix = confusionMatrix(test_labels, predictions)\n",
        "plotMatrix(confusion_matrix)"
      ],
      "metadata": {
        "colab": {
          "base_uri": "https://localhost:8080/",
          "height": 472
        },
        "id": "yeSl6ND10RiP",
        "outputId": "903fa102-836d-4098-90fc-30c2f98e041b"
      },
      "execution_count": 138,
      "outputs": [
        {
          "output_type": "display_data",
          "data": {
            "text/plain": [
              "<Figure size 640x480 with 2 Axes>"
            ],
            "image/png": "[encoded data removed]"
          },
          "metadata": {}
        }
      ]
    },
    {
      "cell_type": "code",
      "source": [
        "precision, recall, f1_score, macroaveraged_precision, macroaveraged_recall, macroaveraged_f1 = performance(confusion_matrix)"
      ],
      "metadata": {
        "id": "wgPbtmMmWH0h"
      },
      "execution_count": 139,
      "outputs": []
    },
    {
      "cell_type": "code",
      "source": [
        "for i in range(5):\n",
        "  print(f\"Precision of class {i} is {precision[i]}\")\n",
        "  print(f\"Recall of class {i} is {recall[i]}\")\n",
        "  print(f\"f1 score of class {i} is {f1_score[i]}\")\n",
        "print(f\"Macro averaged percision is {macroaveraged_precision} \")\n",
        "print(f\"Macro averaged recall is {macroaveraged_recall} \")\n",
        "print(f\"Macro averaged f1 score is {macroaveraged_f1} \")"
      ],
      "metadata": {
        "colab": {
          "base_uri": "https://localhost:8080/"
        },
        "id": "O5UZjqLg_JTA",
        "outputId": "311b682f-8bcf-42d2-f8a3-990630229367"
      },
      "execution_count": 140,
      "outputs": [
        {
          "output_type": "stream",
          "name": "stdout",
          "text": [
            "Precision of class 0 is 0.14695340501792115\n",
            "Recall of class 0 is 0.19069767441860466\n",
            "f1 score of class 0 is 0.572093023255814\n",
            "Precision of class 1 is 0.3412322274881517\n",
            "Recall of class 1 is 0.3359253499222395\n",
            "f1 score of class 1 is 1.0077760497667185\n",
            "Precision of class 2 is 0.21079691516709512\n",
            "Recall of class 2 is 0.1902552204176334\n",
            "f1 score of class 2 is 0.5707656612529002\n",
            "Precision of class 3 is 0.3176470588235294\n",
            "Recall of class 3 is 0.2625607779578606\n",
            "f1 score of class 3 is 0.7876823338735818\n",
            "Precision of class 4 is 0.24310776942355888\n",
            "Recall of class 4 is 0.3190789473684211\n",
            "f1 score of class 4 is 0.9572368421052633\n",
            "Macro averaged percision is 0.25194747518405125 \n",
            "Macro averaged recall is 0.25970359401695187 \n",
            "Macro averaged f1 score is 0.7791107820508556 \n"
          ]
        }
      ]
    },
    {
      "cell_type": "markdown",
      "source": [
        "#SK-learn Model"
      ],
      "metadata": {
        "id": "uNISZZN_dRFC"
      }
    },
    {
      "cell_type": "code",
      "source": [
        "from sklearn.linear_model import LogisticRegression\n",
        "model = LogisticRegression(random_state = 42)\n",
        "model.fit(train_features, train_labels)"
      ],
      "metadata": {
        "id": "2iQMr9rddQV3"
      },
      "execution_count": null,
      "outputs": []
    },
    {
      "cell_type": "code",
      "source": [
        "predictions = model.predict(val_features)\n",
        "print(f\" Accuracy : {accuracy_score(val_labels, predictions)*100}\")"
      ],
      "metadata": {
        "colab": {
          "base_uri": "https://localhost:8080/"
        },
        "id": "WQZ0gPfgdhFA",
        "outputId": "69ee2983-ec74-4939-c314-f2701e6a3859"
      },
      "execution_count": 103,
      "outputs": [
        {
          "output_type": "stream",
          "name": "stdout",
          "text": [
            " Accuracy : 36.6030881017257\n"
          ]
        }
      ]
    },
    {
      "cell_type": "code",
      "source": [
        "from sklearn.metrics import confusion_matrix, ConfusionMatrixDisplay\n",
        "\n",
        "confusionMatrix = confusion_matrix(val_labels, predictions)\n",
        "cm_display = ConfusionMatrixDisplay(confusion_matrix=confusionMatrix)\n",
        "\n",
        "# Plot confusion matrix\n",
        "fig, ax = plt.subplots(figsize=(8, 6))\n",
        "cm_display.plot(ax=ax, cmap=plt.cm.Blues)\n",
        "plt.title('Confusion Matrix')\n",
        "plt.show()"
      ],
      "metadata": {
        "colab": {
          "base_uri": "https://localhost:8080/",
          "height": 564
        },
        "id": "4auqcKXXWcHZ",
        "outputId": "96143b0d-ea92-4cec-eb35-e0736cdd925a"
      },
      "execution_count": 104,
      "outputs": [
        {
          "output_type": "display_data",
          "data": {
            "text/plain": [
              "<Figure size 800x600 with 2 Axes>"
            ],
            "image/png": "[encoded data removed]"
          },
          "metadata": {}
        }
      ]
    },
    {
      "cell_type": "code",
      "source": [
        "from sklearn.metrics import precision_score, recall_score, f1_score\n",
        "\n",
        "precision = precision_score(val_labels, predictions, average='macro')  # or 'micro', 'weighted', 'samples', 'macro'\n",
        "recall = recall_score(val_labels, predictions, average='macro')\n",
        "f1 = f1_score(val_labels, predictions, average='macro')\n",
        "print(f\"precision: {precision}\\n\")\n",
        "print(f\"recall: {recall}\\n\")\n",
        "print(f\"f1_score: {f1}\\n\")"
      ],
      "metadata": {
        "colab": {
          "base_uri": "https://localhost:8080/"
        },
        "id": "IdYavILLWfoW",
        "outputId": "a8cd009a-9d8a-4931-de25-33bcf12db39e"
      },
      "execution_count": 105,
      "outputs": [
        {
          "output_type": "stream",
          "name": "stdout",
          "text": [
            "precision: 0.37717101038453504\n",
            "\n",
            "recall: 0.3241161465090423\n",
            "\n",
            "f1_score: 0.3216966838455487\n",
            "\n"
          ]
        }
      ]
    },
    {
      "cell_type": "code",
      "source": [
        "predictions = model.predict(test_features)\n",
        "print(f\" Accuracy : {accuracy_score(test_labels, predictions)*100}\")"
      ],
      "metadata": {
        "colab": {
          "base_uri": "https://localhost:8080/"
        },
        "id": "dxzavODWdjNd",
        "outputId": "8f8c972d-ecc6-4a08-f2fa-0c373383cef2"
      },
      "execution_count": 106,
      "outputs": [
        {
          "output_type": "stream",
          "name": "stdout",
          "text": [
            " Accuracy : 35.47511312217195\n"
          ]
        }
      ]
    },
    {
      "cell_type": "code",
      "source": [
        "confusionMatrix = confusion_matrix(test_labels, predictions)\n",
        "cm_display = ConfusionMatrixDisplay(confusion_matrix=confusionMatrix)\n",
        "\n",
        "# Plot confusion matrix\n",
        "fig, ax = plt.subplots(figsize=(8, 6))\n",
        "cm_display.plot(ax=ax, cmap=plt.cm.Blues)\n",
        "plt.title('Confusion Matrix')\n",
        "plt.show()"
      ],
      "metadata": {
        "colab": {
          "base_uri": "https://localhost:8080/",
          "height": 564
        },
        "id": "30oM_zZbRcGv",
        "outputId": "a3e5acb1-9bd9-4de9-ad8a-da7ec9782627"
      },
      "execution_count": 107,
      "outputs": [
        {
          "output_type": "display_data",
          "data": {
            "text/plain": [
              "<Figure size 800x600 with 2 Axes>"
            ],
            "image/png": "[encoded data removed]"
          },
          "metadata": {}
        }
      ]
    },
    {
      "cell_type": "code",
      "source": [
        "precision = precision_score(test_labels, predictions, average='macro')  # or 'micro', 'weighted', 'samples', 'macro'\n",
        "recall = recall_score(test_labels, predictions, average='macro')\n",
        "f1 = f1_score(test_labels, predictions, average='macro')\n",
        "print(f\"precision: {precision}\\n\")\n",
        "print(f\"recall: {recall}\\n\")\n",
        "print(f\"f1_score: {f1}\\n\")"
      ],
      "metadata": {
        "colab": {
          "base_uri": "https://localhost:8080/"
        },
        "id": "QF6yNJnCWXmv",
        "outputId": "bf422fd2-491d-4b90-8643-64b1dbef2f06"
      },
      "execution_count": 108,
      "outputs": [
        {
          "output_type": "stream",
          "name": "stdout",
          "text": [
            "precision: 0.36781160968660964\n",
            "\n",
            "recall: 0.3110105103116386\n",
            "\n",
            "f1_score: 0.3063530477734714\n",
            "\n"
          ]
        }
      ]
    }
  ]
}